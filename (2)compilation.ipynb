{
 "cells": [
  {
   "cell_type": "code",
   "execution_count": 1,
   "id": "7b272f0a",
   "metadata": {},
   "outputs": [],
   "source": [
    "import pandas as pd\n",
    "import os\n"
   ]
  },
  {
   "cell_type": "code",
   "execution_count": 2,
   "id": "8713ac25",
   "metadata": {},
   "outputs": [],
   "source": [
    "def compile_csv_files(file_paths, output_file):\n",
    "    \"\"\"\n",
    "    Compile multiple CSV files into one and save the result to a new file.\n",
    "\n",
    "    Args:\n",
    "        file_paths (list): List of file paths to the CSV files.\n",
    "        output_file (str): Path to the output CSV file.\n",
    "\n",
    "    Returns:\n",
    "        None\n",
    "    \"\"\"\n",
    "    combined_df = pd.DataFrame()\n",
    "\n",
    "    for file_path in file_paths:\n",
    "        df = pd.read_csv(file_path)\n",
    "        combined_df = pd.concat([combined_df, df], ignore_index=True)\n",
    "\n",
    "    combined_df.to_csv(output_file, index=False)\n",
    "    print(f\"Compiled file saved as {output_file}\")\n"
   ]
  },
  {
   "cell_type": "code",
   "execution_count": 3,
   "id": "4ff62777",
   "metadata": {},
   "outputs": [
    {
     "name": "stdout",
     "output_type": "stream",
     "text": [
      "Compiled file saved as year_compiled.csv\n",
      "Duplicates removed. Clean file saved as year_compiled_cleaned.csv\n"
     ]
    }
   ],
   "source": [
    "def remove_duplicates(input_file, output_file):\n",
    "    \"\"\"\n",
    "    Remove duplicates from a CSV file and save the result to a new file.\n",
    "\n",
    "    Args:\n",
    "        input_file (str): Path to the input CSV file.\n",
    "        output_file (str): Path to the output CSV file.\n",
    "\n",
    "    Returns:\n",
    "        None\n",
    "    \"\"\"\n",
    "    df = pd.read_csv(input_file)\n",
    "    df = df.drop_duplicates()\n",
    "    df.to_csv(output_file, index=False)\n",
    "    print(f\"Duplicates removed. Clean file saved as {output_file}\")\n",
    "\n",
    "# File paths provided\n",
    "file_paths = [\n",
    "    '2020-2021.csv',\n",
    "    '2018-2019.csv',\n",
    "    '2022-2023.csv',\n",
    "    '2024.csv',\n",
    "    '2013-2017_2.csv'\n",
    "]\n",
    "\n",
    "# Output paths\n",
    "compiled_file = 'year_compiled.csv'\n",
    "clean_file = 'year_compiled_cleaned.csv'\n",
    "\n",
    "# Compile files and remove duplicates\n",
    "compile_csv_files(file_paths, compiled_file)\n",
    "remove_duplicates(compiled_file, clean_file)"
   ]
  }
 ],
 "metadata": {
  "kernelspec": {
   "display_name": "Python 3 (ipykernel)",
   "language": "python",
   "name": "python3"
  },
  "language_info": {
   "codemirror_mode": {
    "name": "ipython",
    "version": 3
   },
   "file_extension": ".py",
   "mimetype": "text/x-python",
   "name": "python",
   "nbconvert_exporter": "python",
   "pygments_lexer": "ipython3",
   "version": "3.11.5"
  }
 },
 "nbformat": 4,
 "nbformat_minor": 5
}
